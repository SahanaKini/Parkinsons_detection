{
  "nbformat": 4,
  "nbformat_minor": 0,
  "metadata": {
    "colab": {
      "provenance": []
    },
    "kernelspec": {
      "name": "python3",
      "display_name": "Python 3"
    },
    "language_info": {
      "name": "python"
    }
  },
  "cells": [
    {
      "cell_type": "code",
      "execution_count": 1,
      "metadata": {
        "collapsed": true,
        "id": "OL_VnWenN6Oy",
        "colab": {
          "base_uri": "https://localhost:8080/"
        },
        "outputId": "86bf8d0e-f126-4e27-b462-87169b652b24"
      },
      "outputs": [
        {
          "output_type": "stream",
          "name": "stdout",
          "text": [
            "Requirement already satisfied: numpy in /usr/local/lib/python3.11/dist-packages (2.0.2)\n",
            "Requirement already satisfied: pandas in /usr/local/lib/python3.11/dist-packages (2.2.2)\n",
            "Requirement already satisfied: matplotlib in /usr/local/lib/python3.11/dist-packages (3.10.0)\n",
            "Requirement already satisfied: seaborn in /usr/local/lib/python3.11/dist-packages (0.13.2)\n",
            "Requirement already satisfied: scikit-learn in /usr/local/lib/python3.11/dist-packages (1.6.1)\n",
            "Requirement already satisfied: opencv-python in /usr/local/lib/python3.11/dist-packages (4.11.0.86)\n",
            "Requirement already satisfied: librosa in /usr/local/lib/python3.11/dist-packages (0.11.0)\n",
            "Requirement already satisfied: python-dateutil>=2.8.2 in /usr/local/lib/python3.11/dist-packages (from pandas) (2.9.0.post0)\n",
            "Requirement already satisfied: pytz>=2020.1 in /usr/local/lib/python3.11/dist-packages (from pandas) (2025.2)\n",
            "Requirement already satisfied: tzdata>=2022.7 in /usr/local/lib/python3.11/dist-packages (from pandas) (2025.2)\n",
            "Requirement already satisfied: contourpy>=1.0.1 in /usr/local/lib/python3.11/dist-packages (from matplotlib) (1.3.2)\n",
            "Requirement already satisfied: cycler>=0.10 in /usr/local/lib/python3.11/dist-packages (from matplotlib) (0.12.1)\n",
            "Requirement already satisfied: fonttools>=4.22.0 in /usr/local/lib/python3.11/dist-packages (from matplotlib) (4.57.0)\n",
            "Requirement already satisfied: kiwisolver>=1.3.1 in /usr/local/lib/python3.11/dist-packages (from matplotlib) (1.4.8)\n",
            "Requirement already satisfied: packaging>=20.0 in /usr/local/lib/python3.11/dist-packages (from matplotlib) (24.2)\n",
            "Requirement already satisfied: pillow>=8 in /usr/local/lib/python3.11/dist-packages (from matplotlib) (11.2.1)\n",
            "Requirement already satisfied: pyparsing>=2.3.1 in /usr/local/lib/python3.11/dist-packages (from matplotlib) (3.2.3)\n",
            "Requirement already satisfied: scipy>=1.6.0 in /usr/local/lib/python3.11/dist-packages (from scikit-learn) (1.15.3)\n",
            "Requirement already satisfied: joblib>=1.2.0 in /usr/local/lib/python3.11/dist-packages (from scikit-learn) (1.5.0)\n",
            "Requirement already satisfied: threadpoolctl>=3.1.0 in /usr/local/lib/python3.11/dist-packages (from scikit-learn) (3.6.0)\n",
            "Requirement already satisfied: audioread>=2.1.9 in /usr/local/lib/python3.11/dist-packages (from librosa) (3.0.1)\n",
            "Requirement already satisfied: numba>=0.51.0 in /usr/local/lib/python3.11/dist-packages (from librosa) (0.60.0)\n",
            "Requirement already satisfied: decorator>=4.3.0 in /usr/local/lib/python3.11/dist-packages (from librosa) (4.4.2)\n",
            "Requirement already satisfied: soundfile>=0.12.1 in /usr/local/lib/python3.11/dist-packages (from librosa) (0.13.1)\n",
            "Requirement already satisfied: pooch>=1.1 in /usr/local/lib/python3.11/dist-packages (from librosa) (1.8.2)\n",
            "Requirement already satisfied: soxr>=0.3.2 in /usr/local/lib/python3.11/dist-packages (from librosa) (0.5.0.post1)\n",
            "Requirement already satisfied: typing_extensions>=4.1.1 in /usr/local/lib/python3.11/dist-packages (from librosa) (4.13.2)\n",
            "Requirement already satisfied: lazy_loader>=0.1 in /usr/local/lib/python3.11/dist-packages (from librosa) (0.4)\n",
            "Requirement already satisfied: msgpack>=1.0 in /usr/local/lib/python3.11/dist-packages (from librosa) (1.1.0)\n",
            "Requirement already satisfied: llvmlite<0.44,>=0.43.0dev0 in /usr/local/lib/python3.11/dist-packages (from numba>=0.51.0->librosa) (0.43.0)\n",
            "Requirement already satisfied: platformdirs>=2.5.0 in /usr/local/lib/python3.11/dist-packages (from pooch>=1.1->librosa) (4.3.8)\n",
            "Requirement already satisfied: requests>=2.19.0 in /usr/local/lib/python3.11/dist-packages (from pooch>=1.1->librosa) (2.32.3)\n",
            "Requirement already satisfied: six>=1.5 in /usr/local/lib/python3.11/dist-packages (from python-dateutil>=2.8.2->pandas) (1.17.0)\n",
            "Requirement already satisfied: cffi>=1.0 in /usr/local/lib/python3.11/dist-packages (from soundfile>=0.12.1->librosa) (1.17.1)\n",
            "Requirement already satisfied: pycparser in /usr/local/lib/python3.11/dist-packages (from cffi>=1.0->soundfile>=0.12.1->librosa) (2.22)\n",
            "Requirement already satisfied: charset-normalizer<4,>=2 in /usr/local/lib/python3.11/dist-packages (from requests>=2.19.0->pooch>=1.1->librosa) (3.4.2)\n",
            "Requirement already satisfied: idna<4,>=2.5 in /usr/local/lib/python3.11/dist-packages (from requests>=2.19.0->pooch>=1.1->librosa) (3.10)\n",
            "Requirement already satisfied: urllib3<3,>=1.21.1 in /usr/local/lib/python3.11/dist-packages (from requests>=2.19.0->pooch>=1.1->librosa) (2.4.0)\n",
            "Requirement already satisfied: certifi>=2017.4.17 in /usr/local/lib/python3.11/dist-packages (from requests>=2.19.0->pooch>=1.1->librosa) (2025.4.26)\n"
          ]
        }
      ],
      "source": [
        "!pip install numpy pandas matplotlib seaborn scikit-learn opencv-python librosa\n"
      ]
    },
    {
      "cell_type": "code",
      "source": [
        "import zipfile\n",
        "\n",
        "zip_path = \"/content/parkinsons.zip\"\n",
        "extract_folder = \"/content/\"\n",
        "\n",
        "with zipfile.ZipFile(zip_path, 'r') as zip_ref:\n",
        "    zip_ref.extractall(extract_folder)\n",
        "\n",
        "import os\n",
        "print(os.listdir('/content/'))\n"
      ],
      "metadata": {
        "id": "7c8RWqxcPp4k",
        "colab": {
          "base_uri": "https://localhost:8080/"
        },
        "outputId": "85086001-25e8-462c-d662-f66617097d60"
      },
      "execution_count": 1,
      "outputs": [
        {
          "output_type": "stream",
          "name": "stdout",
          "text": [
            "['.config', 'telemonitoring', 'parkinsons.data', 'handwriting.zip', 'parkinsons.names', 'parkinsons.zip', 'sample_data']\n"
          ]
        }
      ]
    },
    {
      "cell_type": "code",
      "source": [
        "import pandas as pd\n",
        "\n",
        "# Load with correct delimiter (since the file may not have headers)\n",
        "df_voice = pd.read_csv('/content/parkinsons.data')\n",
        "\n",
        "# Check the first few rows\n",
        "print(df_voice.head())\n"
      ],
      "metadata": {
        "id": "H5R6dcvlRWzQ",
        "colab": {
          "base_uri": "https://localhost:8080/"
        },
        "outputId": "e28d9cad-f7ac-4175-df22-b567d2ef84d9"
      },
      "execution_count": 2,
      "outputs": [
        {
          "output_type": "stream",
          "name": "stdout",
          "text": [
            "             name  MDVP:Fo(Hz)  MDVP:Fhi(Hz)  MDVP:Flo(Hz)  MDVP:Jitter(%)  \\\n",
            "0  phon_R01_S01_1      119.992       157.302        74.997         0.00784   \n",
            "1  phon_R01_S01_2      122.400       148.650       113.819         0.00968   \n",
            "2  phon_R01_S01_3      116.682       131.111       111.555         0.01050   \n",
            "3  phon_R01_S01_4      116.676       137.871       111.366         0.00997   \n",
            "4  phon_R01_S01_5      116.014       141.781       110.655         0.01284   \n",
            "\n",
            "   MDVP:Jitter(Abs)  MDVP:RAP  MDVP:PPQ  Jitter:DDP  MDVP:Shimmer  ...  \\\n",
            "0           0.00007   0.00370   0.00554     0.01109       0.04374  ...   \n",
            "1           0.00008   0.00465   0.00696     0.01394       0.06134  ...   \n",
            "2           0.00009   0.00544   0.00781     0.01633       0.05233  ...   \n",
            "3           0.00009   0.00502   0.00698     0.01505       0.05492  ...   \n",
            "4           0.00011   0.00655   0.00908     0.01966       0.06425  ...   \n",
            "\n",
            "   Shimmer:DDA      NHR     HNR  status      RPDE       DFA   spread1  \\\n",
            "0      0.06545  0.02211  21.033       1  0.414783  0.815285 -4.813031   \n",
            "1      0.09403  0.01929  19.085       1  0.458359  0.819521 -4.075192   \n",
            "2      0.08270  0.01309  20.651       1  0.429895  0.825288 -4.443179   \n",
            "3      0.08771  0.01353  20.644       1  0.434969  0.819235 -4.117501   \n",
            "4      0.10470  0.01767  19.649       1  0.417356  0.823484 -3.747787   \n",
            "\n",
            "    spread2        D2       PPE  \n",
            "0  0.266482  2.301442  0.284654  \n",
            "1  0.335590  2.486855  0.368674  \n",
            "2  0.311173  2.342259  0.332634  \n",
            "3  0.334147  2.405554  0.368975  \n",
            "4  0.234513  2.332180  0.410335  \n",
            "\n",
            "[5 rows x 24 columns]\n"
          ]
        }
      ]
    },
    {
      "cell_type": "code",
      "source": [
        "print(df_voice.columns)\n"
      ],
      "metadata": {
        "id": "4gr07SfTPwLR",
        "colab": {
          "base_uri": "https://localhost:8080/"
        },
        "outputId": "11e42c2d-5810-4d49-f567-e9dcf1d9b16e"
      },
      "execution_count": 3,
      "outputs": [
        {
          "output_type": "stream",
          "name": "stdout",
          "text": [
            "Index(['name', 'MDVP:Fo(Hz)', 'MDVP:Fhi(Hz)', 'MDVP:Flo(Hz)', 'MDVP:Jitter(%)',\n",
            "       'MDVP:Jitter(Abs)', 'MDVP:RAP', 'MDVP:PPQ', 'Jitter:DDP',\n",
            "       'MDVP:Shimmer', 'MDVP:Shimmer(dB)', 'Shimmer:APQ3', 'Shimmer:APQ5',\n",
            "       'MDVP:APQ', 'Shimmer:DDA', 'NHR', 'HNR', 'status', 'RPDE', 'DFA',\n",
            "       'spread1', 'spread2', 'D2', 'PPE'],\n",
            "      dtype='object')\n"
          ]
        }
      ]
    },
    {
      "cell_type": "code",
      "source": [
        "from sklearn.model_selection import train_test_split\n",
        "\n",
        "X_voice = df_voice.drop(['name', 'status'], axis=1)\n",
        "y_voice = df_voice['status']\n",
        "\n",
        "X_train_voice, X_test_voice, y_train_voice, y_test_voice = train_test_split(X_voice, y_voice, test_size=0.2, random_state=42)\n"
      ],
      "metadata": {
        "id": "uXMva7g1Pzj6"
      },
      "execution_count": 4,
      "outputs": []
    },
    {
      "cell_type": "code",
      "source": [
        "from sklearn.ensemble import RandomForestClassifier\n",
        "from sklearn.metrics import accuracy_score\n",
        "\n",
        "clf_voice = RandomForestClassifier()\n",
        "clf_voice.fit(X_train_voice, y_train_voice)\n",
        "\n",
        "y_pred_voice = clf_voice.predict(X_test_voice)\n",
        "print(\"Voice Data Accuracy:\", accuracy_score(y_test_voice, y_pred_voice))\n"
      ],
      "metadata": {
        "id": "467_GPEvP19W",
        "colab": {
          "base_uri": "https://localhost:8080/"
        },
        "outputId": "e757719c-170e-4746-e842-0c314613f659"
      },
      "execution_count": 18,
      "outputs": [
        {
          "output_type": "stream",
          "name": "stdout",
          "text": [
            "Voice Data Accuracy: 0.9487179487179487\n"
          ]
        }
      ]
    },
    {
      "cell_type": "code",
      "source": [
        "!pip install numpy pandas matplotlib seaborn scikit-learn opencv-python librosa\n"
      ],
      "metadata": {
        "colab": {
          "base_uri": "https://localhost:8080/"
        },
        "id": "iJEcs6W1Ew2C",
        "outputId": "b1faa1a6-84aa-47fc-8783-1592649929e1"
      },
      "execution_count": 6,
      "outputs": [
        {
          "output_type": "stream",
          "name": "stdout",
          "text": [
            "Requirement already satisfied: numpy in /usr/local/lib/python3.11/dist-packages (2.0.2)\n",
            "Requirement already satisfied: pandas in /usr/local/lib/python3.11/dist-packages (2.2.2)\n",
            "Requirement already satisfied: matplotlib in /usr/local/lib/python3.11/dist-packages (3.10.0)\n",
            "Requirement already satisfied: seaborn in /usr/local/lib/python3.11/dist-packages (0.13.2)\n",
            "Requirement already satisfied: scikit-learn in /usr/local/lib/python3.11/dist-packages (1.6.1)\n",
            "Requirement already satisfied: opencv-python in /usr/local/lib/python3.11/dist-packages (4.11.0.86)\n",
            "Requirement already satisfied: librosa in /usr/local/lib/python3.11/dist-packages (0.11.0)\n",
            "Requirement already satisfied: python-dateutil>=2.8.2 in /usr/local/lib/python3.11/dist-packages (from pandas) (2.9.0.post0)\n",
            "Requirement already satisfied: pytz>=2020.1 in /usr/local/lib/python3.11/dist-packages (from pandas) (2025.2)\n",
            "Requirement already satisfied: tzdata>=2022.7 in /usr/local/lib/python3.11/dist-packages (from pandas) (2025.2)\n",
            "Requirement already satisfied: contourpy>=1.0.1 in /usr/local/lib/python3.11/dist-packages (from matplotlib) (1.3.2)\n",
            "Requirement already satisfied: cycler>=0.10 in /usr/local/lib/python3.11/dist-packages (from matplotlib) (0.12.1)\n",
            "Requirement already satisfied: fonttools>=4.22.0 in /usr/local/lib/python3.11/dist-packages (from matplotlib) (4.57.0)\n",
            "Requirement already satisfied: kiwisolver>=1.3.1 in /usr/local/lib/python3.11/dist-packages (from matplotlib) (1.4.8)\n",
            "Requirement already satisfied: packaging>=20.0 in /usr/local/lib/python3.11/dist-packages (from matplotlib) (24.2)\n",
            "Requirement already satisfied: pillow>=8 in /usr/local/lib/python3.11/dist-packages (from matplotlib) (11.2.1)\n",
            "Requirement already satisfied: pyparsing>=2.3.1 in /usr/local/lib/python3.11/dist-packages (from matplotlib) (3.2.3)\n",
            "Requirement already satisfied: scipy>=1.6.0 in /usr/local/lib/python3.11/dist-packages (from scikit-learn) (1.15.3)\n",
            "Requirement already satisfied: joblib>=1.2.0 in /usr/local/lib/python3.11/dist-packages (from scikit-learn) (1.5.0)\n",
            "Requirement already satisfied: threadpoolctl>=3.1.0 in /usr/local/lib/python3.11/dist-packages (from scikit-learn) (3.6.0)\n",
            "Requirement already satisfied: audioread>=2.1.9 in /usr/local/lib/python3.11/dist-packages (from librosa) (3.0.1)\n",
            "Requirement already satisfied: numba>=0.51.0 in /usr/local/lib/python3.11/dist-packages (from librosa) (0.60.0)\n",
            "Requirement already satisfied: decorator>=4.3.0 in /usr/local/lib/python3.11/dist-packages (from librosa) (4.4.2)\n",
            "Requirement already satisfied: soundfile>=0.12.1 in /usr/local/lib/python3.11/dist-packages (from librosa) (0.13.1)\n",
            "Requirement already satisfied: pooch>=1.1 in /usr/local/lib/python3.11/dist-packages (from librosa) (1.8.2)\n",
            "Requirement already satisfied: soxr>=0.3.2 in /usr/local/lib/python3.11/dist-packages (from librosa) (0.5.0.post1)\n",
            "Requirement already satisfied: typing_extensions>=4.1.1 in /usr/local/lib/python3.11/dist-packages (from librosa) (4.13.2)\n",
            "Requirement already satisfied: lazy_loader>=0.1 in /usr/local/lib/python3.11/dist-packages (from librosa) (0.4)\n",
            "Requirement already satisfied: msgpack>=1.0 in /usr/local/lib/python3.11/dist-packages (from librosa) (1.1.0)\n",
            "Requirement already satisfied: llvmlite<0.44,>=0.43.0dev0 in /usr/local/lib/python3.11/dist-packages (from numba>=0.51.0->librosa) (0.43.0)\n",
            "Requirement already satisfied: platformdirs>=2.5.0 in /usr/local/lib/python3.11/dist-packages (from pooch>=1.1->librosa) (4.3.8)\n",
            "Requirement already satisfied: requests>=2.19.0 in /usr/local/lib/python3.11/dist-packages (from pooch>=1.1->librosa) (2.32.3)\n",
            "Requirement already satisfied: six>=1.5 in /usr/local/lib/python3.11/dist-packages (from python-dateutil>=2.8.2->pandas) (1.17.0)\n",
            "Requirement already satisfied: cffi>=1.0 in /usr/local/lib/python3.11/dist-packages (from soundfile>=0.12.1->librosa) (1.17.1)\n",
            "Requirement already satisfied: pycparser in /usr/local/lib/python3.11/dist-packages (from cffi>=1.0->soundfile>=0.12.1->librosa) (2.22)\n",
            "Requirement already satisfied: charset-normalizer<4,>=2 in /usr/local/lib/python3.11/dist-packages (from requests>=2.19.0->pooch>=1.1->librosa) (3.4.2)\n",
            "Requirement already satisfied: idna<4,>=2.5 in /usr/local/lib/python3.11/dist-packages (from requests>=2.19.0->pooch>=1.1->librosa) (3.10)\n",
            "Requirement already satisfied: urllib3<3,>=1.21.1 in /usr/local/lib/python3.11/dist-packages (from requests>=2.19.0->pooch>=1.1->librosa) (2.4.0)\n",
            "Requirement already satisfied: certifi>=2017.4.17 in /usr/local/lib/python3.11/dist-packages (from requests>=2.19.0->pooch>=1.1->librosa) (2025.4.26)\n"
          ]
        }
      ]
    },
    {
      "cell_type": "code",
      "source": [
        "import zipfile\n",
        "\n",
        "zip_path = \"/content/parkinsons.zip\"  # Path to the zip file\n",
        "extract_folder = \"/content/\"  # Folder to extract files\n",
        "\n",
        "with zipfile.ZipFile(zip_path, 'r') as zip_ref:\n",
        "    zip_ref.extractall(extract_folder)\n",
        "\n",
        "import os\n",
        "print(os.listdir('/content/'))  # Check extracted files\n"
      ],
      "metadata": {
        "colab": {
          "base_uri": "https://localhost:8080/"
        },
        "id": "HX4UTiysE8a5",
        "outputId": "d4304053-5864-4ba5-8fca-08515d9f68f9"
      },
      "execution_count": 7,
      "outputs": [
        {
          "output_type": "stream",
          "name": "stdout",
          "text": [
            "['.config', 'telemonitoring', 'parkinsons.data', 'handwriting.zip', 'parkinsons.names', 'parkinsons.zip', 'sample_data']\n"
          ]
        }
      ]
    },
    {
      "cell_type": "code",
      "source": [
        "import pandas as pd\n",
        "\n",
        "# Load the voice data\n",
        "df_voice = pd.read_csv('/content/parkinsons.data')\n",
        "\n",
        "# Load the UPDRS (clinical) data\n",
        "df_updrs = pd.read_csv('/content/telemonitoring/parkinsons_updrs.data')\n",
        "\n",
        "# Display first few rows to inspect the data\n",
        "print(df_voice.head())\n",
        "print(df_updrs.head())\n"
      ],
      "metadata": {
        "colab": {
          "base_uri": "https://localhost:8080/"
        },
        "id": "vua2OaPHFEWG",
        "outputId": "e0f23112-c359-4d22-b654-8963d8ec9376"
      },
      "execution_count": 8,
      "outputs": [
        {
          "output_type": "stream",
          "name": "stdout",
          "text": [
            "             name  MDVP:Fo(Hz)  MDVP:Fhi(Hz)  MDVP:Flo(Hz)  MDVP:Jitter(%)  \\\n",
            "0  phon_R01_S01_1      119.992       157.302        74.997         0.00784   \n",
            "1  phon_R01_S01_2      122.400       148.650       113.819         0.00968   \n",
            "2  phon_R01_S01_3      116.682       131.111       111.555         0.01050   \n",
            "3  phon_R01_S01_4      116.676       137.871       111.366         0.00997   \n",
            "4  phon_R01_S01_5      116.014       141.781       110.655         0.01284   \n",
            "\n",
            "   MDVP:Jitter(Abs)  MDVP:RAP  MDVP:PPQ  Jitter:DDP  MDVP:Shimmer  ...  \\\n",
            "0           0.00007   0.00370   0.00554     0.01109       0.04374  ...   \n",
            "1           0.00008   0.00465   0.00696     0.01394       0.06134  ...   \n",
            "2           0.00009   0.00544   0.00781     0.01633       0.05233  ...   \n",
            "3           0.00009   0.00502   0.00698     0.01505       0.05492  ...   \n",
            "4           0.00011   0.00655   0.00908     0.01966       0.06425  ...   \n",
            "\n",
            "   Shimmer:DDA      NHR     HNR  status      RPDE       DFA   spread1  \\\n",
            "0      0.06545  0.02211  21.033       1  0.414783  0.815285 -4.813031   \n",
            "1      0.09403  0.01929  19.085       1  0.458359  0.819521 -4.075192   \n",
            "2      0.08270  0.01309  20.651       1  0.429895  0.825288 -4.443179   \n",
            "3      0.08771  0.01353  20.644       1  0.434969  0.819235 -4.117501   \n",
            "4      0.10470  0.01767  19.649       1  0.417356  0.823484 -3.747787   \n",
            "\n",
            "    spread2        D2       PPE  \n",
            "0  0.266482  2.301442  0.284654  \n",
            "1  0.335590  2.486855  0.368674  \n",
            "2  0.311173  2.342259  0.332634  \n",
            "3  0.334147  2.405554  0.368975  \n",
            "4  0.234513  2.332180  0.410335  \n",
            "\n",
            "[5 rows x 24 columns]\n",
            "   subject#  age  sex  test_time  motor_UPDRS  total_UPDRS  Jitter(%)  \\\n",
            "0         1   72    0     5.6431       28.199       34.398    0.00662   \n",
            "1         1   72    0    12.6660       28.447       34.894    0.00300   \n",
            "2         1   72    0    19.6810       28.695       35.389    0.00481   \n",
            "3         1   72    0    25.6470       28.905       35.810    0.00528   \n",
            "4         1   72    0    33.6420       29.187       36.375    0.00335   \n",
            "\n",
            "   Jitter(Abs)  Jitter:RAP  Jitter:PPQ5  ...  Shimmer(dB)  Shimmer:APQ3  \\\n",
            "0     0.000034     0.00401      0.00317  ...        0.230       0.01438   \n",
            "1     0.000017     0.00132      0.00150  ...        0.179       0.00994   \n",
            "2     0.000025     0.00205      0.00208  ...        0.181       0.00734   \n",
            "3     0.000027     0.00191      0.00264  ...        0.327       0.01106   \n",
            "4     0.000020     0.00093      0.00130  ...        0.176       0.00679   \n",
            "\n",
            "   Shimmer:APQ5  Shimmer:APQ11  Shimmer:DDA       NHR     HNR     RPDE  \\\n",
            "0       0.01309        0.01662      0.04314  0.014290  21.640  0.41888   \n",
            "1       0.01072        0.01689      0.02982  0.011112  27.183  0.43493   \n",
            "2       0.00844        0.01458      0.02202  0.020220  23.047  0.46222   \n",
            "3       0.01265        0.01963      0.03317  0.027837  24.445  0.48730   \n",
            "4       0.00929        0.01819      0.02036  0.011625  26.126  0.47188   \n",
            "\n",
            "       DFA      PPE  \n",
            "0  0.54842  0.16006  \n",
            "1  0.56477  0.10810  \n",
            "2  0.54405  0.21014  \n",
            "3  0.57794  0.33277  \n",
            "4  0.56122  0.19361  \n",
            "\n",
            "[5 rows x 22 columns]\n"
          ]
        }
      ]
    },
    {
      "cell_type": "code",
      "source": [
        "X_voice = df_voice.drop(['name', 'status'], axis=1)  # Drop 'name' (patient ID) and 'status' columns\n",
        "y_voice = df_voice['status']  # 'status' is the target label (0 = Healthy, 1 = Parkinson's)\n"
      ],
      "metadata": {
        "id": "efJWBxfCFI90"
      },
      "execution_count": 9,
      "outputs": []
    },
    {
      "cell_type": "code",
      "source": [
        "print(df_updrs.columns)\n"
      ],
      "metadata": {
        "colab": {
          "base_uri": "https://localhost:8080/"
        },
        "id": "UR2PkUoVFL5j",
        "outputId": "2a533473-5daf-425f-af23-b55fabba1669"
      },
      "execution_count": 10,
      "outputs": [
        {
          "output_type": "stream",
          "name": "stdout",
          "text": [
            "Index(['subject#', 'age', 'sex', 'test_time', 'motor_UPDRS', 'total_UPDRS',\n",
            "       'Jitter(%)', 'Jitter(Abs)', 'Jitter:RAP', 'Jitter:PPQ5', 'Jitter:DDP',\n",
            "       'Shimmer', 'Shimmer(dB)', 'Shimmer:APQ3', 'Shimmer:APQ5',\n",
            "       'Shimmer:APQ11', 'Shimmer:DDA', 'NHR', 'HNR', 'RPDE', 'DFA', 'PPE'],\n",
            "      dtype='object')\n"
          ]
        }
      ]
    },
    {
      "cell_type": "code",
      "source": [
        "# Assuming motor_UPDRS > 30 indicates Parkinson's disease\n",
        "df_updrs['status'] = (df_updrs['motor_UPDRS'] > 30).astype(int)\n",
        "\n",
        "# Features (dropping 'subject#' and 'status' columns, as 'status' is now the label)\n",
        "X_updrs = df_updrs.drop(['subject#', 'status'], axis=1)\n",
        "\n",
        "# Target variable (status)\n",
        "y_updrs = df_updrs['status']\n"
      ],
      "metadata": {
        "id": "-DMUOofEFkNi"
      },
      "execution_count": 11,
      "outputs": []
    },
    {
      "cell_type": "code",
      "source": [
        "from sklearn.model_selection import train_test_split\n",
        "\n",
        "# Split the data into training and testing sets\n",
        "X_train_updrs, X_test_updrs, y_train_updrs, y_test_updrs = train_test_split(X_updrs, y_updrs, test_size=0.2, random_state=42)\n"
      ],
      "metadata": {
        "id": "qTVXVPK3FmO8"
      },
      "execution_count": 12,
      "outputs": []
    },
    {
      "cell_type": "code",
      "source": [
        "from sklearn.ensemble import RandomForestClassifier\n",
        "from sklearn.metrics import accuracy_score\n",
        "\n",
        "# Initialize and train the classifier\n",
        "clf_updrs = RandomForestClassifier()\n",
        "clf_updrs.fit(X_train_updrs, y_train_updrs)\n",
        "\n",
        "# Predict on the test set\n",
        "y_pred_updrs = clf_updrs.predict(X_test_updrs)\n",
        "\n",
        "# Evaluate the model\n",
        "print(\"UPDRS Data Accuracy:\", accuracy_score(y_test_updrs, y_pred_updrs))\n"
      ],
      "metadata": {
        "colab": {
          "base_uri": "https://localhost:8080/"
        },
        "id": "oEKvgVTVFpyw",
        "outputId": "c0d059cf-c713-4716-9256-f6718f872198"
      },
      "execution_count": 13,
      "outputs": [
        {
          "output_type": "stream",
          "name": "stdout",
          "text": [
            "UPDRS Data Accuracy: 1.0\n"
          ]
        }
      ]
    },
    {
      "cell_type": "code",
      "source": [
        "import zipfile\n",
        "\n",
        "zip_path = \"/content/handwriting.zip\"\n",
        "extract_folder = \"/content/\"\n",
        "\n",
        "with zipfile.ZipFile(zip_path, 'r') as zip_ref:\n",
        "    zip_ref.extractall(extract_folder)"
      ],
      "metadata": {
        "id": "8VQ4wZ8wP3e3"
      },
      "execution_count": 19,
      "outputs": []
    },
    {
      "cell_type": "code",
      "source": [
        "import os\n",
        "print(os.listdir('/content/handwriting/spiral/training'))"
      ],
      "metadata": {
        "colab": {
          "base_uri": "https://localhost:8080/"
        },
        "id": "CS0TLglyjQCt",
        "outputId": "6b3a082b-9c99-495f-d99d-8a1a4637ce7e"
      },
      "execution_count": 20,
      "outputs": [
        {
          "output_type": "stream",
          "name": "stdout",
          "text": [
            "['healthy', 'parkinson']\n"
          ]
        }
      ]
    },
    {
      "cell_type": "code",
      "source": [
        "import cv2\n",
        "import os\n",
        "import numpy as np\n",
        "\n",
        "# Function to load images from a folder and assign label (1 for Parkinson's, 0 for Healthy)\n",
        "def load_images_from_folder(folder, label):\n",
        "    images = []\n",
        "    labels = []\n",
        "    for filename in os.listdir(folder):\n",
        "        img_path = os.path.join(folder, filename)\n",
        "        img = cv2.imread(img_path, cv2.IMREAD_GRAYSCALE)\n",
        "        if img is not None:\n",
        "            img = cv2.resize(img, (100, 100))  # Resize to 100x100\n",
        "            images.append(img.flatten())      # Flatten the image to 1D\n",
        "            labels.append(label)\n",
        "    return images, labels"
      ],
      "metadata": {
        "id": "WLSCeZwrj2Q8"
      },
      "execution_count": 21,
      "outputs": []
    },
    {
      "cell_type": "code",
      "source": [
        "parkinsons_spiral, labels_spiral = load_images_from_folder('/content/handwriting/spiral/training/parkinson', 1)\n",
        "healthy_spiral, labels_healthy_spiral = load_images_from_folder('/content/handwriting/spiral/training/healthy', 0)\n",
        "\n",
        "# Combine spiral data\n",
        "X_spiral = parkinsons_spiral + healthy_spiral\n",
        "y_spiral = labels_spiral + labels_healthy_spiral"
      ],
      "metadata": {
        "id": "yPbaDVZ8j6Xb"
      },
      "execution_count": 22,
      "outputs": []
    },
    {
      "cell_type": "code",
      "source": [
        "parkinsons_wave, labels_wave = load_images_from_folder('/content/handwriting/wave/training/parkinson', 1)\n",
        "healthy_wave, labels_healthy_wave = load_images_from_folder('/content/handwriting/wave/training/healthy', 0)\n",
        "\n",
        "# Combine wave data\n",
        "X_wave = parkinsons_wave + healthy_wave\n",
        "y_wave = labels_wave + labels_healthy_wave"
      ],
      "metadata": {
        "id": "JEkdzQifj-B5"
      },
      "execution_count": 23,
      "outputs": []
    },
    {
      "cell_type": "code",
      "source": [
        "X_spiral = np.array(X_spiral)\n",
        "y_spiral = np.array(y_spiral)\n",
        "\n",
        "X_wave = np.array(X_wave)\n",
        "y_wave = np.array(y_wave)\n",
        "\n",
        "print(f'Spiral Images Shape: {X_spiral.shape}, Spiral Labels Shape: {y_spiral.shape}')\n",
        "print(f'Wave Images Shape: {X_wave.shape}, Wave Labels Shape: {y_wave.shape}')\n"
      ],
      "metadata": {
        "colab": {
          "base_uri": "https://localhost:8080/"
        },
        "id": "YOj0Y0EzkCca",
        "outputId": "a2d91863-fb33-4590-fb1f-5434bd137276"
      },
      "execution_count": 24,
      "outputs": [
        {
          "output_type": "stream",
          "name": "stdout",
          "text": [
            "Spiral Images Shape: (72, 10000), Spiral Labels Shape: (72,)\n",
            "Wave Images Shape: (72, 10000), Wave Labels Shape: (72,)\n"
          ]
        }
      ]
    },
    {
      "cell_type": "code",
      "source": [],
      "metadata": {
        "id": "L22-ekCGkGDa"
      },
      "execution_count": null,
      "outputs": []
    },
    {
      "cell_type": "code",
      "source": [
        "from sklearn.model_selection import train_test_split\n",
        "from sklearn.svm import SVC\n",
        "from sklearn.metrics import accuracy_score, classification_report, confusion_matrix\n",
        "\n",
        "# Split data (80% train, 20% test)\n",
        "X_train_spiral, X_test_spiral, y_train_spiral, y_test_spiral = train_test_split(X_spiral, y_spiral, test_size=0.2, random_state=42)\n",
        "\n",
        "# Train a simple SVM model\n",
        "model_spiral = SVC(kernel='linear')\n",
        "model_spiral.fit(X_train_spiral, y_train_spiral)\n",
        "\n",
        "# Predict\n",
        "y_pred_spiral = model_spiral.predict(X_test_spiral)\n",
        "\n",
        "# Evaluate\n",
        "print(\"\\nSpiral Drawings Model Evaluation:\")\n",
        "print(\"Accuracy:\", accuracy_score(y_test_spiral, y_pred_spiral))\n",
        "print(\"Classification Report:\\n\", classification_report(y_test_spiral, y_pred_spiral))\n",
        "print(\"Confusion Matrix:\\n\", confusion_matrix(y_test_spiral, y_pred_spiral))\n"
      ],
      "metadata": {
        "id": "fx1cNxCNP990",
        "colab": {
          "base_uri": "https://localhost:8080/"
        },
        "outputId": "0ee71fc9-8292-4e3d-ec7b-66d01357d1fe"
      },
      "execution_count": 25,
      "outputs": [
        {
          "output_type": "stream",
          "name": "stdout",
          "text": [
            "\n",
            "Spiral Drawings Model Evaluation:\n",
            "Accuracy: 0.7333333333333333\n",
            "Classification Report:\n",
            "               precision    recall  f1-score   support\n",
            "\n",
            "           0       0.56      1.00      0.71         5\n",
            "           1       1.00      0.60      0.75        10\n",
            "\n",
            "    accuracy                           0.73        15\n",
            "   macro avg       0.78      0.80      0.73        15\n",
            "weighted avg       0.85      0.73      0.74        15\n",
            "\n",
            "Confusion Matrix:\n",
            " [[5 0]\n",
            " [4 6]]\n"
          ]
        }
      ]
    },
    {
      "cell_type": "code",
      "source": [
        "# Split data (80% train, 20% test)\n",
        "X_train_wave, X_test_wave, y_train_wave, y_test_wave = train_test_split(X_wave, y_wave, test_size=0.2, random_state=42)\n",
        "\n",
        "# Train a simple SVM model\n",
        "model_wave = SVC(kernel='linear')\n",
        "model_wave.fit(X_train_wave, y_train_wave)\n",
        "\n",
        "# Predict\n",
        "y_pred_wave = model_wave.predict(X_test_wave)\n",
        "\n",
        "# Evaluate\n",
        "print(\"\\nWave Drawings Model Evaluation:\")\n",
        "print(\"Accuracy:\", accuracy_score(y_test_wave, y_pred_wave))\n",
        "print(\"Classification Report:\\n\", classification_report(y_test_wave, y_pred_wave))\n",
        "print(\"Confusion Matrix:\\n\", confusion_matrix(y_test_wave, y_pred_wave))\n"
      ],
      "metadata": {
        "id": "4FJR0hIqUzGu",
        "colab": {
          "base_uri": "https://localhost:8080/"
        },
        "outputId": "7bcc81a1-ee68-40a3-e195-b2008110f391"
      },
      "execution_count": 26,
      "outputs": [
        {
          "output_type": "stream",
          "name": "stdout",
          "text": [
            "\n",
            "Wave Drawings Model Evaluation:\n",
            "Accuracy: 0.5333333333333333\n",
            "Classification Report:\n",
            "               precision    recall  f1-score   support\n",
            "\n",
            "           0       0.38      0.60      0.46         5\n",
            "           1       0.71      0.50      0.59        10\n",
            "\n",
            "    accuracy                           0.53        15\n",
            "   macro avg       0.54      0.55      0.52        15\n",
            "weighted avg       0.60      0.53      0.55        15\n",
            "\n",
            "Confusion Matrix:\n",
            " [[3 2]\n",
            " [5 5]]\n"
          ]
        }
      ]
    },
    {
      "cell_type": "code",
      "source": [
        "from sklearn.model_selection import train_test_split\n",
        "from sklearn.svm import SVC\n",
        "from sklearn.metrics import accuracy_score, classification_report, confusion_matrix\n",
        "\n",
        "# Combine the spiral and wave data (X) and labels (y)\n",
        "X_combined = np.concatenate((X_spiral, X_wave), axis=0)  # Combine features (images)\n",
        "y_combined = np.concatenate((y_spiral, y_wave), axis=0)  # Combine labels\n",
        "\n",
        "# Split the combined data into training and testing sets (80% train, 20% test)\n",
        "X_train_combined, X_test_combined, y_train_combined, y_test_combined = train_test_split(X_combined, y_combined, test_size=0.2, random_state=42)\n",
        "\n",
        "# Train a simple SVM model on the combined data\n",
        "model_combined = SVC(kernel='linear')\n",
        "model_combined.fit(X_train_combined, y_train_combined)\n",
        "\n",
        "# Predict with the combined model\n",
        "y_pred_combined = model_combined.predict(X_test_combined)\n",
        "\n",
        "# Evaluate the model performance\n",
        "print(\"\\nCombined Handwriting Model Evaluation:\")\n",
        "print(\"Accuracy:\", accuracy_score(y_test_combined, y_pred_combined))\n",
        "print(\"Classification Report:\\n\", classification_report(y_test_combined, y_pred_combined))\n",
        "print(\"Confusion Matrix:\\n\", confusion_matrix(y_test_combined, y_pred_combined))\n",
        "\n"
      ],
      "metadata": {
        "id": "wZBM8j5QVBrF",
        "colab": {
          "base_uri": "https://localhost:8080/"
        },
        "outputId": "04b21bb8-cdeb-421b-94b9-95089437fa8d"
      },
      "execution_count": 27,
      "outputs": [
        {
          "output_type": "stream",
          "name": "stdout",
          "text": [
            "\n",
            "Combined Handwriting Model Evaluation:\n",
            "Accuracy: 0.5517241379310345\n",
            "Classification Report:\n",
            "               precision    recall  f1-score   support\n",
            "\n",
            "           0       0.56      0.60      0.58        15\n",
            "           1       0.54      0.50      0.52        14\n",
            "\n",
            "    accuracy                           0.55        29\n",
            "   macro avg       0.55      0.55      0.55        29\n",
            "weighted avg       0.55      0.55      0.55        29\n",
            "\n",
            "Confusion Matrix:\n",
            " [[9 6]\n",
            " [7 7]]\n"
          ]
        }
      ]
    },
    {
      "cell_type": "code",
      "source": [
        "from sklearn.svm import SVC\n",
        "from sklearn.model_selection import GridSearchCV\n",
        "\n",
        "# Assuming you've already prepared your training data (X_train_combined, y_train_combined)\n",
        "param_grid = {\n",
        "    'C': [0.1, 1, 10],\n",
        "    'kernel': ['linear', 'rbf'],\n",
        "    'gamma': ['scale', 'auto']\n",
        "}\n",
        "\n",
        "# Create a basic SVM model\n",
        "svm = SVC()\n",
        "\n",
        "# Set up GridSearchCV to find the best model\n",
        "grid_search = GridSearchCV(svm, param_grid, cv=5, scoring='accuracy')\n",
        "grid_search.fit(X_train_combined, y_train_combined)\n",
        "\n",
        "# The best model after grid search\n",
        "best_model = grid_search.best_estimator_\n",
        "\n",
        "# Save the best model\n",
        "import joblib\n",
        "joblib.dump(best_model, 'parkinsons_model.pkl')\n"
      ],
      "metadata": {
        "id": "xitDal5QVn8r",
        "colab": {
          "base_uri": "https://localhost:8080/"
        },
        "outputId": "0a5f777b-6d74-40f1-94ce-ec065697ea13"
      },
      "execution_count": 28,
      "outputs": [
        {
          "output_type": "execute_result",
          "data": {
            "text/plain": [
              "['parkinsons_model.pkl']"
            ]
          },
          "metadata": {},
          "execution_count": 28
        }
      ]
    },
    {
      "cell_type": "code",
      "source": [
        "from sklearn.svm import SVC\n",
        "\n",
        "# Train a model (e.g., SVM)\n",
        "model = SVC(kernel='rbf', C=1, gamma='scale')\n",
        "model.fit(X_train_combined, y_train_combined)\n",
        "\n",
        "# Assign the trained model to best_model\n",
        "best_model = model\n",
        "\n",
        "# Save the model\n",
        "import joblib\n",
        "joblib.dump(best_model, 'parkinsons_model.pkl')\n"
      ],
      "metadata": {
        "id": "JalRTAFsWJjY",
        "colab": {
          "base_uri": "https://localhost:8080/"
        },
        "outputId": "1448f334-e428-4f40-e153-974f6404ecbd"
      },
      "execution_count": 29,
      "outputs": [
        {
          "output_type": "execute_result",
          "data": {
            "text/plain": [
              "['parkinsons_model.pkl']"
            ]
          },
          "metadata": {},
          "execution_count": 29
        }
      ]
    },
    {
      "cell_type": "code",
      "source": [
        "import joblib\n",
        "\n",
        "# Load the saved model\n",
        "best_model = joblib.load('parkinsons_model.pkl')\n"
      ],
      "metadata": {
        "id": "8mzhibLzWLzN"
      },
      "execution_count": 30,
      "outputs": []
    },
    {
      "cell_type": "markdown",
      "source": [],
      "metadata": {
        "id": "6zHX5dPVVBxc"
      }
    },
    {
      "cell_type": "code",
      "source": [
        "pip install flask\n"
      ],
      "metadata": {
        "id": "DvLq8CUGWPgW",
        "colab": {
          "base_uri": "https://localhost:8080/"
        },
        "outputId": "fecd5943-d97a-47c7-a219-e123c9d77122"
      },
      "execution_count": 31,
      "outputs": [
        {
          "output_type": "stream",
          "name": "stdout",
          "text": [
            "Requirement already satisfied: flask in /usr/local/lib/python3.11/dist-packages (3.1.0)\n",
            "Requirement already satisfied: Werkzeug>=3.1 in /usr/local/lib/python3.11/dist-packages (from flask) (3.1.3)\n",
            "Requirement already satisfied: Jinja2>=3.1.2 in /usr/local/lib/python3.11/dist-packages (from flask) (3.1.6)\n",
            "Requirement already satisfied: itsdangerous>=2.2 in /usr/local/lib/python3.11/dist-packages (from flask) (2.2.0)\n",
            "Requirement already satisfied: click>=8.1.3 in /usr/local/lib/python3.11/dist-packages (from flask) (8.1.8)\n",
            "Requirement already satisfied: blinker>=1.9 in /usr/local/lib/python3.11/dist-packages (from flask) (1.9.0)\n",
            "Requirement already satisfied: MarkupSafe>=2.0 in /usr/local/lib/python3.11/dist-packages (from Jinja2>=3.1.2->flask) (3.0.2)\n"
          ]
        }
      ]
    },
    {
      "cell_type": "code",
      "source": [
        "from google.colab import files\n",
        "files.download('parkinsons_model.pkl')\n"
      ],
      "metadata": {
        "colab": {
          "base_uri": "https://localhost:8080/",
          "height": 17
        },
        "id": "Nzy4EJ3lW8Fb",
        "outputId": "72eda446-382b-4db7-a12d-4e74e07f0848"
      },
      "execution_count": 33,
      "outputs": [
        {
          "output_type": "display_data",
          "data": {
            "text/plain": [
              "<IPython.core.display.Javascript object>"
            ],
            "application/javascript": [
              "\n",
              "    async function download(id, filename, size) {\n",
              "      if (!google.colab.kernel.accessAllowed) {\n",
              "        return;\n",
              "      }\n",
              "      const div = document.createElement('div');\n",
              "      const label = document.createElement('label');\n",
              "      label.textContent = `Downloading \"${filename}\": `;\n",
              "      div.appendChild(label);\n",
              "      const progress = document.createElement('progress');\n",
              "      progress.max = size;\n",
              "      div.appendChild(progress);\n",
              "      document.body.appendChild(div);\n",
              "\n",
              "      const buffers = [];\n",
              "      let downloaded = 0;\n",
              "\n",
              "      const channel = await google.colab.kernel.comms.open(id);\n",
              "      // Send a message to notify the kernel that we're ready.\n",
              "      channel.send({})\n",
              "\n",
              "      for await (const message of channel.messages) {\n",
              "        // Send a message to notify the kernel that we're ready.\n",
              "        channel.send({})\n",
              "        if (message.buffers) {\n",
              "          for (const buffer of message.buffers) {\n",
              "            buffers.push(buffer);\n",
              "            downloaded += buffer.byteLength;\n",
              "            progress.value = downloaded;\n",
              "          }\n",
              "        }\n",
              "      }\n",
              "      const blob = new Blob(buffers, {type: 'application/binary'});\n",
              "      const a = document.createElement('a');\n",
              "      a.href = window.URL.createObjectURL(blob);\n",
              "      a.download = filename;\n",
              "      div.appendChild(a);\n",
              "      a.click();\n",
              "      div.remove();\n",
              "    }\n",
              "  "
            ]
          },
          "metadata": {}
        },
        {
          "output_type": "display_data",
          "data": {
            "text/plain": [
              "<IPython.core.display.Javascript object>"
            ],
            "application/javascript": [
              "download(\"download_29373b0b-9aeb-4b95-8844-14c742ab0a9f\", \"parkinsons_model.pkl\", 9203931)"
            ]
          },
          "metadata": {}
        }
      ]
    }
  ]
}